{
 "cells": [
  {
   "cell_type": "code",
   "execution_count": null,
   "metadata": {},
   "outputs": [],
   "source": [
    "# This code is for practicing some basics...\n",
    "# Mission: Write a program that prints the numbers from 1 to 100. \n",
    "# But for multiples of three print “Fizz” instead of the number and for the multiples of five print “Buzz”. \n",
    "# For numbers which are multiples of both three and five print “FizzBuzz”.\n",
    "\n",
    "for number in range (1,101):\n",
    "    n = \"\"\n",
    "    if number % 3 == 0:\n",
    "        n += \"fizz\"\n",
    "    if number % 5 == 0:\n",
    "        n += \"buzz\"\n",
    "    if n == \"\":\n",
    "        n += str(number) \n",
    "    print(n)"
   ]
  }
 ],
 "metadata": {
  "kernelspec": {
   "display_name": "Python 3",
   "language": "python",
   "name": "python3"
  },
  "language_info": {
   "codemirror_mode": {
    "name": "ipython",
    "version": 3
   },
   "file_extension": ".py",
   "mimetype": "text/x-python",
   "name": "python",
   "nbconvert_exporter": "python",
   "pygments_lexer": "ipython3",
   "version": "3.7.0"
  }
 },
 "nbformat": 4,
 "nbformat_minor": 2
}
